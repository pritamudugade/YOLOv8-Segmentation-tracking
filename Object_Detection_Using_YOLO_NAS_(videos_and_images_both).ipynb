{
  "nbformat": 4,
  "nbformat_minor": 0,
  "metadata": {
    "colab": {
      "provenance": []
    },
    "kernelspec": {
      "name": "python3",
      "display_name": "Python 3"
    },
    "language_info": {
      "name": "python"
    }
  },
  "cells": [
    {
      "cell_type": "markdown",
      "source": [
        "# **Before Running the Script, Please make sure that you have selected the Rum Time as GPU**"
      ],
      "metadata": {
        "id": "hVrrjRfl3MbK"
      }
    },
    {
      "cell_type": "markdown",
      "source": [
        "# **Step 01: Install the Required Packages**"
      ],
      "metadata": {
        "id": "Y5VFogbvrLlZ"
      }
    },
    {
      "cell_type": "code",
      "execution_count": null,
      "metadata": {
        "id": "I7RLuM9vN_Hz"
      },
      "outputs": [],
      "source": [
        "!pip install super-gradients\n",
        "!pip install imutils\n",
        "!pip install roboflow\n",
        "!pip install pytube --upgrade"
      ]
    },
    {
      "cell_type": "code",
      "execution_count": null,
      "metadata": {
        "id": "xKIBBgTPRm2b"
      },
      "outputs": [],
      "source": [
        "!pip install torchinfo"
      ]
    },
    {
      "cell_type": "markdown",
      "source": [
        "# **Restart the Run Time**\n",
        "\n",
        "---\n",
        "\n"
      ],
      "metadata": {
        "id": "u-lM-ohQrYTt"
      }
    },
    {
      "cell_type": "markdown",
      "source": [
        "# **Step 02: Import the Required Libraries**\n",
        "\n"
      ],
      "metadata": {
        "id": "zQcyYbfyrejW"
      }
    },
    {
      "cell_type": "code",
      "execution_count": null,
      "metadata": {
        "id": "Bk-XgVOGSsO8"
      },
      "outputs": [],
      "source": [
        "from super_gradients.training import models"
      ]
    },
    {
      "cell_type": "code",
      "execution_count": 4,
      "metadata": {
        "id": "XxzCTYpDUL6H"
      },
      "outputs": [],
      "source": [
        "from torchinfo import summary"
      ]
    },
    {
      "cell_type": "markdown",
      "source": [
        "# **Step 03: Instantiating a Pretrained Model**"
      ],
      "metadata": {
        "id": "lKWGBsPSrlc2"
      }
    },
    {
      "cell_type": "code",
      "execution_count": null,
      "metadata": {
        "id": "2WgLMUeJSGYz"
      },
      "outputs": [],
      "source": [
        "yolo_nas_l = models.get(\"yolo_nas_l\",pretrained_weights=\"coco\")"
      ]
    },
    {
      "cell_type": "markdown",
      "source": [
        "# **Step 04: Model Architecture**"
      ],
      "metadata": {
        "id": "6FSH-LB1rxo8"
      }
    },
    {
      "cell_type": "code",
      "execution_count": null,
      "metadata": {
        "id": "du-DxL8wUoxV"
      },
      "outputs": [],
      "source": [
        "summary(model=yolo_nas_l,\n",
        "        input_size=(16,3,640,640),\n",
        "        col_names=[\"input_size\", \"output_size\", \"num_params\", \"trainable\"],\n",
        "        col_width=20,\n",
        "        row_settings=[\"var_names\"]\n",
        ")"
      ]
    },
    {
      "cell_type": "markdown",
      "source": [
        "# **Step 05: Inference with YOLONAS**\n",
        "---\n",
        "# **A path to Image File**"
      ],
      "metadata": {
        "id": "ZNXMYszbr-z-"
      }
    },
    {
      "cell_type": "code",
      "source": [
        "url = \"https://avatars.githubusercontent.com/u/109741995?v=4\"\n",
        "yolo_nas_l.predict(url, conf=0.20).show()"
      ],
      "metadata": {
        "id": "i_QfFi6Mih5D"
      },
      "execution_count": null,
      "outputs": []
    },
    {
      "cell_type": "markdown",
      "source": [],
      "metadata": {
        "id": "KGPvtw1b4CrT"
      }
    },
    {
      "cell_type": "markdown",
      "source": [
        "# **Upload an Image**"
      ],
      "metadata": {
        "id": "NSij30DW4Hok"
      }
    },
    {
      "cell_type": "code",
      "source": [
        "! gdown --id 1QVbG1YQmDJpEVHxNb2_pBDMX4RvRWVCL"
      ],
      "metadata": {
        "id": "v9n7Jj2Jm-je"
      },
      "execution_count": null,
      "outputs": []
    },
    {
      "cell_type": "code",
      "source": [
        "image_path = '/content/AhadRaza2[1].png'\n",
        "yolo_nas_l.predict(image_path, conf=0.26).show()"
      ],
      "metadata": {
        "id": "bYXy0h7xnZaM"
      },
      "execution_count": null,
      "outputs": []
    },
    {
      "cell_type": "markdown",
      "source": [
        "# **Inference on Video 1**"
      ],
      "metadata": {
        "id": "daKGP74-vfmO"
      }
    },
    {
      "cell_type": "code",
      "source": [
        "! gdown --id 1nSkdr3UnIOK0pfnNvLpBeJPYPX2Mxq3u"
      ],
      "metadata": {
        "id": "o4wxfxaevkST"
      },
      "execution_count": null,
      "outputs": []
    },
    {
      "cell_type": "code",
      "source": [
        "input_video_path = f\"/content/ahadraza.mp4\"\n",
        "output_video_path= \"detection.mp4\""
      ],
      "metadata": {
        "id": "K4uB_dpxvwFV"
      },
      "execution_count": 22,
      "outputs": []
    },
    {
      "cell_type": "code",
      "source": [
        "import torch\n",
        "device = 'cuda' if torch.cuda.is_available() else \"cpu\""
      ],
      "metadata": {
        "id": "ilAOwYw_wEU6"
      },
      "execution_count": 24,
      "outputs": []
    },
    {
      "cell_type": "code",
      "source": [
        "yolo_nas_l.to(device).predict(input_video_path).save(output_video_path)"
      ],
      "metadata": {
        "id": "qjncXfhhwVcj"
      },
      "execution_count": null,
      "outputs": []
    },
    {
      "cell_type": "markdown",
      "source": [
        "# **Display the Output Video**"
      ],
      "metadata": {
        "id": "-yIVJ6bR4StV"
      }
    },
    {
      "cell_type": "code",
      "source": [
        "!rm '/content/result_compressed.mp4'"
      ],
      "metadata": {
        "id": "oQiu7FJQ0me7"
      },
      "execution_count": 30,
      "outputs": []
    },
    {
      "cell_type": "code",
      "source": [
        "from IPython.display import HTML\n",
        "from base64 import b64encode\n",
        "import os\n",
        "\n",
        "save_path = '/content/detection.mp4'\n",
        "compressed_path = '/content/result_compressed.mp4'\n",
        "os.system(f\"ffmpeg - i {save_path} -vcodec libx264 {compressed_path}\")\n",
        "mp4 = open(compressed_path,'rb').read()\n",
        "data_url = \"data:video/mp4;base64\", + b64encode(mp4).decode()\n",
        "HTML(\"\"\"\n",
        "<video width = 400 controls>\n",
        "  <source src=\"%s\" type=\"video/mp4\">\n",
        "</video>\n",
        "\"\"\" % data_url)"
      ],
      "metadata": {
        "id": "c--mQUaT5R8O"
      },
      "execution_count": null,
      "outputs": []
    }
  ]
}